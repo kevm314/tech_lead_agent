{
 "cells": [
  {
   "cell_type": "code",
   "execution_count": 34,
   "metadata": {},
   "outputs": [],
   "source": [
    "import json\n",
    "import pathlib\n",
    "from dotenv import load_dotenv\n",
    "\n",
    "import openai\n",
    "from langchain.llms import OpenAI\n",
    "from langchain.docstore import Wikipedia\n",
    "from langchain.agents import initialize_agent, Tool\n",
    "from langchain.agents import AgentType\n",
    "from langchain.agents.react.base import DocstoreExplorer\n",
    "from langchain.agents import load_tools\n",
    "from langchain.tools import StructuredTool\n"
   ]
  },
  {
   "cell_type": "code",
   "execution_count": 3,
   "metadata": {},
   "outputs": [
    {
     "data": {
      "text/plain": [
       "True"
      ]
     },
     "execution_count": 3,
     "metadata": {},
     "output_type": "execute_result"
    }
   ],
   "source": [
    "\n",
    "load_dotenv(dotenv_path=pathlib.Path('.env'))"
   ]
  },
  {
   "cell_type": "code",
   "execution_count": 51,
   "metadata": {},
   "outputs": [],
   "source": [
    "llm = OpenAI(temperature=0) #gpt-3.5-turbo-16k # model_name=\"gpt-3.5-turbo\"\n"
   ]
  },
  {
   "cell_type": "code",
   "execution_count": 5,
   "metadata": {},
   "outputs": [],
   "source": [
    "tools = []"
   ]
  },
  {
   "cell_type": "code",
   "execution_count": 6,
   "metadata": {},
   "outputs": [],
   "source": [
    "tools = load_tools([\"llm-math\"], llm=llm)"
   ]
  },
  {
   "cell_type": "code",
   "execution_count": 45,
   "metadata": {},
   "outputs": [],
   "source": [
    "\n",
    "import os\n",
    "from langchain.tools import tool\n",
    "\n",
    "\n",
    "\n",
    "class Docstore:\n",
    "    def __init__(self, folder_path):\n",
    "        self.folder_path = folder_path\n",
    "\n",
    "    def list_files(self, *args, **kwargs):\n",
    "        \"\"\"List all files in the document store recursively.\"\"\"\n",
    "        all_files = []\n",
    "        for dirpath, dirnames, filenames in os.walk(self.folder_path):\n",
    "            for filename in filenames:\n",
    "                all_files.append(os.path.join(dirpath, filename))\n",
    "        return all_files\n",
    "\n",
    "    def read_file(self, filepath):\n",
    "        \"\"\"Read the content of a specific file.\"\"\"\n",
    "        filepath = filepath.replace(\"'\", \"\")\n",
    "        with open(filepath, 'rb') as file:\n",
    "            return file.read()\n",
    "        \n",
    "\n",
    "\n",
    "\n",
    "def create_ticket(title: str, description: str, tags=[]):\n",
    "    \"\"\"Create a ticket or code feature request as an output JSON file. with the given input parameters\"\"\"\n",
    "    output_folder = \"./tickets/\"\n",
    "    # Create a ticket dictionary with the provided details\n",
    "    ticket = {\n",
    "        \"title\": title,\n",
    "        \"description\": description,\n",
    "        \"tags\": tags,\n",
    "        \"status\": \"Open\"\n",
    "    }\n",
    "    \n",
    "    # Generate a unique filename based on the title\n",
    "    filename = title.replace(\" \", \"_\") + \".json\"\n",
    "    filepath = os.path.join(output_folder, filename)\n",
    "    \n",
    "    # Write the ticket to a JSON file\n",
    "    with open(filepath, 'w') as file:\n",
    "        json.dump(ticket, file, indent=4)\n",
    "    \n",
    "    return f\"Ticket saved to {filepath}\"\n",
    "\n",
    "docstore = Docstore(folder_path=\"./demo_app/backend/app/app/\")\n",
    "\n",
    "tools.append(\n",
    "    Tool(\n",
    "        name=\"ListFiles\",\n",
    "        func=docstore.list_files,\n",
    "        description=\"Lists all txt files in the document store.\",\n",
    "    )\n",
    ")\n",
    "\n",
    "tools.append(\n",
    "    Tool(\n",
    "        name=\"ReadFile\",\n",
    "        func=docstore.read_file,\n",
    "        description=\"Reads the content of a specific code file.\",\n",
    "    )\n",
    ")\n",
    "\n",
    "ticket_tool = StructuredTool.from_function(create_ticket)\n",
    "\n",
    "\n",
    "\n",
    "tools.append(\n",
    "    ticket_tool\n",
    ")"
   ]
  },
  {
   "cell_type": "code",
   "execution_count": 46,
   "metadata": {},
   "outputs": [],
   "source": [
    "tech_lead_agent_system_prompt: str = \"\"\"\n",
    "You are a tech lead, you have access to multiple repos, given a feature request, your job is to go through the code files and create a list of tickets for a software engineer to work on\n",
    "\n",
    "\"\"\""
   ]
  },
  {
   "cell_type": "code",
   "execution_count": 49,
   "metadata": {},
   "outputs": [],
   "source": [
    "react = initialize_agent(tools, llm, agent=AgentType.STRUCTURED_CHAT_ZERO_SHOT_REACT_DESCRIPTION, verbose=True)"
   ]
  },
  {
   "cell_type": "code",
   "execution_count": 50,
   "metadata": {},
   "outputs": [
    {
     "name": "stdout",
     "output_type": "stream",
     "text": [
      "\n",
      "\n",
      "\u001B[1m> Entering new  chain...\u001B[0m\n",
      "\u001B[32;1m\u001B[1;3mAction:\n",
      "```\n",
      "{\n",
      "  \"action\": \"create_ticket\",\n",
      "  \"action_input\": {\n",
      "    \"title\": \"Simple Ticket\",\n",
      "    \"description\": \"Create a simple ticket\",\n",
      "    \"priority\": \"Medium\",\n",
      "    \"tags\": []\n",
      "  }\n",
      "}\n",
      "```\u001B[0m\n",
      "Observation: \u001B[36;1m\u001B[1;3mTicket saved to ./tickets/Simple_Ticket.json\u001B[0m\n",
      "Thought:\u001B[32;1m\u001B[1;3mThe ticket has been created successfully.\u001B[0m\n",
      "\n",
      "\u001B[1m> Finished chain.\u001B[0m\n"
     ]
    },
    {
     "data": {
      "text/plain": [
       "'The ticket has been created successfully.'"
      ]
     },
     "execution_count": 50,
     "metadata": {},
     "output_type": "execute_result"
    }
   ],
   "source": [
    "react.run(\n",
    "    f\"{tech_lead_agent_system_prompt} - please create a simple ticket - DO NOT READ THE FILES\"\n",
    ")"
   ]
  },
  {
   "cell_type": "code",
   "execution_count": null,
   "metadata": {},
   "outputs": [],
   "source": []
  }
 ],
 "metadata": {
  "kernelspec": {
   "display_name": "proto",
   "language": "python",
   "name": "python3"
  },
  "language_info": {
   "codemirror_mode": {
    "name": "ipython",
    "version": 3
   },
   "file_extension": ".py",
   "mimetype": "text/x-python",
   "name": "python",
   "nbconvert_exporter": "python",
   "pygments_lexer": "ipython3",
   "version": "3.11.3"
  },
  "orig_nbformat": 4
 },
 "nbformat": 4,
 "nbformat_minor": 2
}
